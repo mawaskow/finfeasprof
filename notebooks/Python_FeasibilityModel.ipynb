{
 "cells": [
  {
   "cell_type": "markdown",
   "id": "9fd99e8f",
   "metadata": {},
   "source": [
    "**Definition of all the equations through the use of functions**"
   ]
  },
  {
   "cell_type": "markdown",
   "id": "7153d85f",
   "metadata": {},
   "source": [
    "Equations set 1: INITIAL VALUE OF INVESTMENT"
   ]
  },
  {
   "cell_type": "code",
   "execution_count": 2,
   "id": "6f0a8eb2",
   "metadata": {},
   "outputs": [],
   "source": [
    "#Equation 01\n",
    "def Final_Year_exponent(period_of_years): \n",
    "    exponent_year = period_of_years - 1\n",
    "    return exponent_year"
   ]
  },
  {
   "cell_type": "code",
   "execution_count": 3,
   "id": "c366e649",
   "metadata": {},
   "outputs": [],
   "source": [
    "#Equation 02\n",
    "def Year_End(start_year, exponent_year):\n",
    "    calendar_year_end = start_year + exponent_year\n",
    "    return calendar_year_end"
   ]
  },
  {
   "cell_type": "code",
   "execution_count": 4,
   "id": "82ca0408",
   "metadata": {},
   "outputs": [],
   "source": [
    "#Equation 03\n",
    "def Real_Interest_Rate(nominal_interest_rate, inflation_rate):\n",
    "    real_interest_rate = nominal_interest_rate - inflation_rate\n",
    "    return real_interest_rate"
   ]
  },
  {
   "cell_type": "code",
   "execution_count": 5,
   "id": "3b94e102",
   "metadata": {},
   "outputs": [],
   "source": [
    "#Equation 04\n",
    "def Credits_Generated(period_of_years, hectares_restored, credits_per_hectare_per_year):\n",
    "    credits_generated = period_of_years*hectares_restored*credits_per_hectare_per_year\n",
    "    return credits_generated"
   ]
  },
  {
   "cell_type": "code",
   "execution_count": 6,
   "id": "44035f14",
   "metadata": {},
   "outputs": [],
   "source": [
    "#Equation 05\n",
    "def Cost_Per_Credit(investment_amount, total_project_costs_undisc, credits_generated):\n",
    "    cost_per_credit=(investment_amount + total_project_costs_undisc)/credits_generated\n",
    "    return cost_per_credit"
   ]
  },
  {
   "cell_type": "code",
   "execution_count": 7,
   "id": "2049da12",
   "metadata": {},
   "outputs": [],
   "source": [
    "#Equation 06\n",
    "def Beginning_Value(credits_generated, cost_per_credit):\n",
    "    beginning_value = credits_generated*cost_per_credit\n",
    "    return beginning_value"
   ]
  },
  {
   "cell_type": "code",
   "execution_count": 8,
   "id": "8211b3bd",
   "metadata": {},
   "outputs": [],
   "source": [
    "#Equation 07\n",
    "def Ending_Value_Undiscounted(credits_generated, price_per_credit):\n",
    "    ending_value_undisc = credits_generated*price_per_credit\n",
    "    return ending_value_undisc"
   ]
  },
  {
   "cell_type": "markdown",
   "id": "b64c46c0",
   "metadata": {},
   "source": [
    "Equation set 2: INVESTMENT COSTS"
   ]
  },
  {
   "cell_type": "code",
   "execution_count": 9,
   "id": "e7b73532",
   "metadata": {},
   "outputs": [],
   "source": [
    "#Equation 08\n",
    "def Carbon_Investment_Cost_Per_Payment(interest_rate, payments_per_year, period_of_years, investment_amount):\n",
    "    rate = interest_rate/payments_per_year\n",
    "    n = payments_per_year*period_of_years\n",
    "    x = rate*investment_amount\n",
    "    y = (1-((1+rate)**(-n)))\n",
    "    carbon_investment_cost_per_payment = x/y\n",
    "    return carbon_investment_cost_per_payment"
   ]
  },
  {
   "cell_type": "code",
   "execution_count": 10,
   "id": "f8a7eaf7",
   "metadata": {},
   "outputs": [],
   "source": [
    "#Equation 09\n",
    "def Carbon_Investment_Annual_Costs(carbon_investment_cost_per_payment, payments_per_year):\n",
    "    carbon_investment_annual_costs = carbon_investment_cost_per_payment*payments_per_year\n",
    "    return carbon_investment_annual_costs"
   ]
  },
  {
   "cell_type": "code",
   "execution_count": 11,
   "id": "8046f14d",
   "metadata": {},
   "outputs": [],
   "source": [
    "#Equation 10\n",
    "def Total_Investment_Costs(carbon_investment_annual_costs, period_of_years):\n",
    "    total_investment_costs = carbon_investment_annual_costs*period_of_years\n",
    "    return total_investment_costs"
   ]
  },
  {
   "cell_type": "markdown",
   "id": "4f1ef8af",
   "metadata": {},
   "source": [
    "Equation set 3: REGISTRY COSTS"
   ]
  },
  {
   "cell_type": "code",
   "execution_count": 12,
   "id": "bd9a8f9f",
   "metadata": {},
   "outputs": [],
   "source": [
    "#Equation 11\n",
    "def Number_Of_Inspections(period_of_years, inspection_cycle_lenght):\n",
    "    number_of_inspections = round(period_of_years/inspection_cycle_lenght)\n",
    "    return number_of_inspections"
   ]
  },
  {
   "cell_type": "code",
   "execution_count": 13,
   "id": "c2a008a9",
   "metadata": {},
   "outputs": [],
   "source": [
    "#Equation 12 is included in equation 13 with the entry \"inspection_conversion_fee\" \n"
   ]
  },
  {
   "cell_type": "code",
   "execution_count": 14,
   "id": "aff17763",
   "metadata": {},
   "outputs": [],
   "source": [
    "#Equation 13\n",
    "def Registry_Cost_Recurring(validation_application_cost, validation_statement_cost, inspector_travel_cost, inspection_conversion_fee, number_of_inspections):\n",
    "    registry_cost_recurring=(validation_application_cost + validation_statement_cost + inspector_travel_cost + inspection_conversion_fee)* number_of_inspections\n",
    "    return registry_cost_recurring"
   ]
  },
  {
   "cell_type": "code",
   "execution_count": 15,
   "id": "e1b2c385",
   "metadata": {},
   "outputs": [],
   "source": [
    "#Equation 14\n",
    "def Registry_Cost_Per_Credit(listing_cost, levy_cost, credit_generated):\n",
    "    registry_cost_per_credit=(listing_cost + levy_cost) * credit_generated\n",
    "    return registry_cost_per_credit"
   ]
  },
  {
   "cell_type": "code",
   "execution_count": 16,
   "id": "996fc0a0",
   "metadata": {},
   "outputs": [],
   "source": [
    "#Equation 15\n",
    "def Registry_Cost_Credits_Above_Threshold(conversion_cost_above_threshold, credits_generated, minimum_threshold):\n",
    "    credits_above_threshold = credits_generated - minimum_threshold\n",
    "    registry_cost_credits_above_threshold = conversion_cost_above_threshold * (credits_above_threshold if credits_above_threshold  > 0 else 0)\n",
    "    return registry_cost_credits_above_threshold\n"
   ]
  },
  {
   "cell_type": "code",
   "execution_count": 17,
   "id": "fdfbe426",
   "metadata": {},
   "outputs": [],
   "source": [
    "#Equation 16\n",
    "def Total_Registry_Costs(registry_costs_recurring, registry_cost_per_credit, registry_cost_above_threshold, registry_cost_opening_fee):\n",
    "    total_registry_costs = registry_costs_recurring + registry_cost_per_credit + registry_cost_above_threshold + registry_cost_opening_fee\n",
    "    return total_registry_costs"
   ]
  },
  {
   "cell_type": "markdown",
   "id": "687f47b6",
   "metadata": {},
   "source": [
    "Equation set 4: DISCOUNTING FUTURE VALUE OF INVESTMENT"
   ]
  },
  {
   "cell_type": "code",
   "execution_count": 18,
   "id": "e7343970",
   "metadata": {},
   "outputs": [],
   "source": [
    "#Equation 17\n",
    "def Exponent_Factor_For_CARG(exponent_year):\n",
    "    CARG_exponent = 1/exponent_year\n",
    "    return CARG_exponent"
   ]
  },
  {
   "cell_type": "code",
   "execution_count": 19,
   "id": "8280ba47",
   "metadata": {},
   "outputs": [],
   "source": [
    "#Equation 18\n",
    "def Total_Project_Costs_Undiscounted(total_investment_costs, total_registry_costs):\n",
    "    total_project_costs_undisc = total_investment_costs + total_registry_costs\n",
    "    return total_project_costs_undisc"
   ]
  },
  {
   "cell_type": "code",
   "execution_count": 20,
   "id": "dbb6b1d7",
   "metadata": {},
   "outputs": [],
   "source": [
    "#Equation 19\n",
    "def Ending_Value_Discounted(ending_value_undisc, real_interest_rate, exponent_year):\n",
    "    ending_value_disc= ending_value_undisc / ((1 + real_interest_rate) ** exponent_year)\n",
    "    return ending_value_disc"
   ]
  },
  {
   "cell_type": "code",
   "execution_count": 21,
   "id": "13498573",
   "metadata": {},
   "outputs": [],
   "source": [
    "#Equation 20\n",
    "def Total_Project_Costs_Discounted(total_project_costs_undisc, real_interest_rate, exponent_year):\n",
    "    total_project_costs_disc= total_project_costs_undisc / ((1 + real_interest_rate) ** exponent_year)\n",
    "    return total_project_costs_disc"
   ]
  },
  {
   "cell_type": "markdown",
   "id": "99b9c7e8",
   "metadata": {},
   "source": [
    "Equations set 5: PROFITABILITY INDICATORS"
   ]
  },
  {
   "cell_type": "code",
   "execution_count": 22,
   "id": "b2a11904",
   "metadata": {},
   "outputs": [],
   "source": [
    "#Equation 21\n",
    "def Rate_Of_Return(ending_value_disc, beginning_value):\n",
    "    rate_of_return = ((ending_value_disc-beginning_value)/beginning_value)*100\n",
    "    return rate_of_return"
   ]
  },
  {
   "cell_type": "code",
   "execution_count": 23,
   "id": "20a5ff9f",
   "metadata": {},
   "outputs": [],
   "source": [
    "#Equation 22\n",
    "def Compound_Annualised_Rate_Of_Growth(ending_value_undisc, beginning_value, CARG_exponent):\n",
    "    CARG = ((ending_value_undisc/beginning_value)**(CARG_exponent-1))*100\n",
    "    return CARG"
   ]
  },
  {
   "cell_type": "code",
   "execution_count": 24,
   "id": "4a2fc229",
   "metadata": {},
   "outputs": [],
   "source": [
    "#Equation 23\n",
    "def Gross_Present_Value(ending_value_disc, beginning_value):\n",
    "    gross_present_value = ending_value_disc - beginning_value\n",
    "    return gross_present_value"
   ]
  },
  {
   "cell_type": "code",
   "execution_count": 25,
   "id": "ab35e3bc",
   "metadata": {},
   "outputs": [],
   "source": [
    "#Equation 24\n",
    "def Net_Present_Value(gross_present_value, total_project_costs_disc):\n",
    "    net_present_value = gross_present_value - total_project_costs_disc\n",
    "    return net_present_value"
   ]
  },
  {
   "cell_type": "markdown",
   "id": "00bc260b",
   "metadata": {},
   "source": [
    "Equations set 6: OUTCOME"
   ]
  },
  {
   "cell_type": "code",
   "execution_count": 26,
   "id": "0b0baf09",
   "metadata": {},
   "outputs": [],
   "source": [
    "#Equation 26\n",
    "def Profit_Per_Credit(net_present_value, credits_generated):\n",
    "    profit_per_credit = net_present_value/credits_generated\n",
    "    return profit_per_credit"
   ]
  },
  {
   "cell_type": "code",
   "execution_count": 27,
   "id": "05ac4936",
   "metadata": {},
   "outputs": [],
   "source": [
    "#Equation 27\n",
    "def Profit_Per_Hectare_Per_Year(net_present_value, hectares_restored, period_of_years):\n",
    "    profit_per_hectare_per_year = (net_present_value/hectares_restored)/period_of_years\n",
    "    return profit_per_hectare_per_year"
   ]
  },
  {
   "cell_type": "code",
   "execution_count": 28,
   "id": "ce7e370c",
   "metadata": {},
   "outputs": [],
   "source": [
    "#Equation 25\n",
    "def Profitable(profit_per_credit, profit_per_hectare_per_year, rate_of_return, CARG, gross_present_value, net_present_value):\n",
    "    profitable = 'No'\n",
    "    if profit_per_credit > 0 and profit_per_hectare_per_year > 0 and rate_of_return > 0 and CARG > 0 and gross_present_value > 0 and net_present_value > 0:\n",
    "        profitable = 'Yes'\n",
    "    return profitable"
   ]
  },
  {
   "cell_type": "markdown",
   "id": "f6e8e280",
   "metadata": {},
   "source": [
    "**User Inputs**"
   ]
  },
  {
   "cell_type": "markdown",
   "id": "c2220d02",
   "metadata": {},
   "source": [
    "The following code will create a json file where a dictionary maps variables to user input values. The initial dictionary has empty values, which will be filled in the context of the web tool. An integration between the web tool and the json file containing the user inputs will be realized using the flask web framework. "
   ]
  },
  {
   "cell_type": "code",
   "execution_count": 29,
   "id": "2511d147",
   "metadata": {},
   "outputs": [],
   "source": [
    "import json\n",
    "\n",
    "# Create a dictionary with empty values which comprises all the variables provided by the user. \n",
    "data = {\n",
    "    \"Period of Years\": \"\",\n",
    "    \"Average Credit per Hectare per Year\": \"\",\n",
    "    \"Hectares Restored\": \"\",\n",
    "    \"Investment Amount\":\"\",\n",
    "    \"Registry Costs Included\": \"\",\n",
    "    \"Investment Financial Costs Included\": \"\",\n",
    "    \"Start Year\": \"\",\n",
    "    \"Price per Credit\": \"\"\n",
    "}\n",
    "\n",
    "# Save the dictionary as a JSON file\n",
    "with open(\"user_data.json\", \"w\") as file:\n",
    "    json.dump(data, file)\n"
   ]
  },
  {
   "cell_type": "markdown",
   "id": "4b3b8f8f",
   "metadata": {},
   "source": [
    "The json file is then brought back into Python code after that the user populated the areas. "
   ]
  },
  {
   "cell_type": "code",
   "execution_count": 30,
   "id": "0d0457c9",
   "metadata": {},
   "outputs": [],
   "source": [
    "# Read the JSON file back into Python code after the user populated the areas.\n",
    "with open(\"user_data.json\", \"r\") as file:\n",
    "    user_filled_data = json.load(file)"
   ]
  },
  {
   "cell_type": "code",
   "execution_count": 43,
   "id": "fc984d1a",
   "metadata": {},
   "outputs": [],
   "source": [
    "#User values are assigned to variables that will be used in the equations. \n",
    "period_of_years = int(user_filled_data[\"Period of Years\"])\n",
    "credits_per_hectares_per_year = int(user_filled_data[\"Average Credit per Hectare per Year\"])\n",
    "hectares_restored = int(user_filled_data[\"Hectares Restored\"])\n",
    "investment_amount = float(user_filled_data[\"Investment Amount\"])\n",
    "registry_costs_included = user_filled_data[\"Registry Costs Included\"]\n",
    "investment_costs_included = user_filled_data[\"Investment Financial Costs Included\"]\n",
    "start_year = int(user_filled_data[\"Start Year\"])\n",
    "price_per_credit = float(user_filled_data[\"Price per Credit\"])"
   ]
  },
  {
   "cell_type": "markdown",
   "id": "92a109c2",
   "metadata": {},
   "source": [
    "**Model Assumptions**"
   ]
  },
  {
   "cell_type": "markdown",
   "id": "99d59adb",
   "metadata": {},
   "source": [
    "The following code creates another json file that collects all the model assumptions and relative values, which will be assigned to the specific parameters in the equations' functions. If the default values are kept, these will be assigned to the equations, otherwise amendended values will be used instead. If necessary, the json file with the assumptions values will be modified in the context of the web toolkit and the flask web framework will provide the integration between the json file and the python code. "
   ]
  },
  {
   "cell_type": "code",
   "execution_count": 32,
   "id": "618ac374",
   "metadata": {},
   "outputs": [],
   "source": [
    "assumptions = {'Credits per Hectare per Year': 20, 'Nominal Interest Rate': 0.0235, 'Inflation Rate': 0.021,\n",
    "                   'Registry Account Opening Fee': 0, 'Registry Listing Cost per Credit': 0.05, \n",
    "                   'Registry Conversion Cost Fee per Inspection': 100, \n",
    "                   'Registry Conversion Cost per Credit above Minimum Threshold of Credits': 0.05,\n",
    "                   'Registry Levy Cost per Credit': 0.05,\n",
    "                   'Validation and Verification Application Cost per Inspection': 600,\n",
    "                   'Validation and Verification Statement Cost per Inspection': 800,\n",
    "                   'Validation and Verification Inspector Travel Costs per Inspection': 500,\n",
    "                   'Inspection Cycle Length': 5,\n",
    "                   'Minimum Threshold of Credits': 2000,\n",
    "                   'Interest Rate': 0.05, 'Payments per Year': 12}\n",
    "\n",
    "# Save the dictionary as a JSON file\n",
    "with open(\"assumptions_data.json\", \"w\") as file:\n",
    "    json.dump(assumptions, file)\n",
    "   "
   ]
  },
  {
   "cell_type": "code",
   "execution_count": 33,
   "id": "66c5bbec",
   "metadata": {},
   "outputs": [],
   "source": [
    "# Read the JSON file back into Python code.\n",
    "with open(\"assumptions_data.json\", \"r\") as file:\n",
    "    assumptions_data = json.load(file)"
   ]
  },
  {
   "cell_type": "code",
   "execution_count": 34,
   "id": "6876d6f1",
   "metadata": {},
   "outputs": [],
   "source": [
    "# Assumptions values are assigned to the variables that will be used in the equations.\n",
    "credits_per_hectare_per_year = int(assumptions_data['Credits per Hectare per Year'])\n",
    "nominal_interest_rate = float(assumptions_data['Nominal Interest Rate'])\n",
    "inflation_rate = float(assumptions_data['Inflation Rate'])\n",
    "registry_account_opening_fee = float(assumptions_data['Registry Account Opening Fee'])\n",
    "listing_cost = float(assumptions_data['Registry Listing Cost per Credit'])\n",
    "inspection_conversion_fee = float(assumptions_data['Registry Conversion Cost Fee per Inspection'])\n",
    "conversion_cost_above_threshold = float(assumptions_data['Registry Conversion Cost per Credit above Minimum Threshold of Credits'])\n",
    "levy_cost = float(assumptions_data['Registry Levy Cost per Credit'])\n",
    "validation_application_cost = float(assumptions_data['Validation and Verification Application Cost per Inspection'])\n",
    "validation_statement_cost = float(assumptions_data['Validation and Verification Statement Cost per Inspection'])\n",
    "inspector_travel_cost = float(assumptions_data['Validation and Verification Inspector Travel Costs per Inspection'])\n",
    "inspection_cycle_lenght = int(assumptions_data['Inspection Cycle Length'])\n",
    "minimum_threshold = int(assumptions_data['Minimum Threshold of Credits'])\n",
    "interest_rate = float(assumptions_data['Interest Rate'])\n",
    "payments_per_year = int(assumptions_data['Payments per Year'])"
   ]
  },
  {
   "cell_type": "markdown",
   "id": "5fbf4d2c",
   "metadata": {},
   "source": [
    "**Model Setup**"
   ]
  },
  {
   "cell_type": "code",
   "execution_count": 35,
   "id": "9f07164b",
   "metadata": {},
   "outputs": [],
   "source": [
    "# Define a function to execute all the calculations while handling the conditions \"registry costs included\":\"yes\"/\"no\"\n",
    "# and \"investment costs included\": \"yes\"/\"no\""
   ]
  },
  {
   "cell_type": "code",
   "execution_count": 44,
   "id": "a566152a",
   "metadata": {},
   "outputs": [],
   "source": [
    "def Conditional_Executor(registry_costs_included, investment_costs_included):\n",
    "    \n",
    "        exponent_year=Final_Year_exponent(period_of_years) # Eq.1\n",
    "        calendar_year_end=Year_End(start_year, exponent_year) # Eq.2\n",
    "        real_interest_rate=Real_Interest_Rate(nominal_interest_rate, inflation_rate) # Eq.3\n",
    "        credits_generated=Credits_Generated(period_of_years, hectares_restored,credits_per_hectare_per_year) # Eq.4\n",
    "        ending_value_undisc=Ending_Value_Undiscounted(credits_generated, price_per_credit) # Eq.7\n",
    "        \n",
    "        if investment_costs_included==\"yes\":\n",
    "            \n",
    "            carbon_investment_cost_per_payment=Carbon_Investment_Cost_Per_Payment(interest_rate, payments_per_year, period_of_years, investment_amount) # Eq.8\n",
    "            carbon_investment_annual_costs=Carbon_Investment_Annual_Costs(carbon_investment_cost_per_payment, payments_per_year) # Eq.9\n",
    "            total_investment_costs=Total_Investment_Costs(carbon_investment_annual_costs, period_of_years) # Eq.10\n",
    "        else:\n",
    "             total_investment_costs = 0\n",
    "        \n",
    "        if registry_costs_included == \"yes\":\n",
    "            \n",
    "            number_of_inspections=Number_Of_Inspections(period_of_years, inspection_cycle_lenght) # Eq.11\n",
    "            registry_cost_recurring=Registry_Cost_Recurring(validation_application_cost, validation_statement_cost, inspector_travel_cost, inspection_conversion_fee, number_of_inspections) # Eq.13\n",
    "            registry_cost_per_credit=Registry_Cost_Per_Credit(listing_cost,levy_cost, credits_generated ) # Eq.14\n",
    "            registry_cost_credits_above_threshold=Registry_Cost_Credits_Above_Threshold(conversion_cost_above_threshold, credits_generated, minimum_threshold) # Eq. 15\n",
    "            total_registry_costs=Total_Registry_Costs(registry_cost_recurring, registry_cost_per_credit, registry_cost_credits_above_threshold, registry_account_opening_fee) # Eq. 16   \n",
    "        else:\n",
    "            total_registry_costs=0\n",
    "            \n",
    "        total_project_costs_undisc=Total_Project_Costs_Undiscounted(total_investment_costs, total_registry_costs) # Eq. 18  \n",
    "        cost_per_credit=Cost_Per_Credit(investment_amount, total_project_costs_undisc, credits_generated)  # Eq.5  \n",
    "        beginning_value=Beginning_Value(credits_generated, cost_per_credit) # Eq.6\n",
    "        CARG_exponent=Exponent_Factor_For_CARG(exponent_year) # Eq.17\n",
    "        ending_value_disc=Ending_Value_Discounted(ending_value_undisc, real_interest_rate, exponent_year) # Eq.19\n",
    "        total_project_costs_disc=Total_Project_Costs_Discounted(total_project_costs_undisc, real_interest_rate, exponent_year) # Eq.20\n",
    "        \n",
    "        rate_of_return=Rate_Of_Return(ending_value_disc, beginning_value) # Eq.21\n",
    "        CARG=Compound_Annualised_Rate_Of_Growth(ending_value_undisc, beginning_value, CARG_exponent) # Eq.22\n",
    "        gross_present_value=Gross_Present_Value(ending_value_disc, beginning_value) # Eq.23\n",
    "        net_present_value=Net_Present_Value(gross_present_value, total_project_costs_disc) #Eq.24\n",
    "        \n",
    "        profit_per_credit=Profit_Per_Credit(net_present_value, credits_generated) # Eq. 26\n",
    "        profit_per_hectare_per_year=Profit_Per_Hectare_Per_Year(net_present_value, hectares_restored, period_of_years) # Eq. 27\n",
    "        profitable=Profitable( profit_per_credit,profit_per_hectare_per_year, rate_of_return, CARG, gross_present_value,net_present_value  ) # Eq.25\n",
    "        \n",
    "      \n",
    "        results_dict = {\n",
    "        \"exponent_year\": exponent_year,\n",
    "        \"calendar_year_end\": calendar_year_end,\n",
    "        \"real_interest_rate\": real_interest_rate,\n",
    "        \"credits_generated\": credits_generated,\n",
    "        \"cost_per_credit\": cost_per_credit,\n",
    "        \"beginning_value\": beginning_value,\n",
    "        \"ending_value_undisc\": ending_value_undisc,\n",
    "        \"carbon_investment_cost_per_payment\": carbon_investment_cost_per_payment,\n",
    "        \"carbon_investment_annual_costs\": carbon_investment_annual_costs,\n",
    "        \"total_investment_costs\": total_investment_costs,\n",
    "        \"number_of_inspections\": number_of_inspections,\n",
    "        \"registry_cost_recurring\": registry_cost_recurring,\n",
    "        \"registry_cost_per_credit\": registry_cost_per_credit,\n",
    "        \"registry_cost_credits_above_threshold\": registry_cost_credits_above_threshold,\n",
    "        \"total_registry_costs\": total_registry_costs,\n",
    "        \"CARG_exponent\": CARG_exponent,\n",
    "        \"total_project_costs_undisc\": total_project_costs_undisc,\n",
    "        \"ending_value_discounted\": ending_value_disc,\n",
    "        \"total_project_costs_disc\": total_project_costs_disc,\n",
    "        \"rate_of_return\": rate_of_return,\n",
    "        \"CARG\": CARG,\n",
    "        \"gross_present_value\": gross_present_value,\n",
    "        \"net_present_value\": net_present_value,\n",
    "        \"profit_per_credit\": profit_per_credit,\n",
    "        \"profit_per_hectare_per_year\": profit_per_hectare_per_year,\n",
    "        \"profitable\": profitable\n",
    "            \n",
    "         }\n",
    "    \n",
    "        return results_dict\n",
    "    \n",
    "        \n",
    "        "
   ]
  },
  {
   "cell_type": "markdown",
   "id": "d7f8e318",
   "metadata": {},
   "source": [
    "**Model Output**"
   ]
  },
  {
   "cell_type": "code",
   "execution_count": 45,
   "id": "a126705c",
   "metadata": {},
   "outputs": [
    {
     "name": "stdout",
     "output_type": "stream",
     "text": [
      "exponent_year : 49\n",
      "calendar_year_end : 2072\n",
      "real_interest_rate : 0.0024999999999999988\n",
      "credits_generated : 1000\n",
      "cost_per_credit : 298.3449963095466\n",
      "beginning_value : 298344.99630954664\n",
      "ending_value_undisc : 561000.0\n",
      "carbon_investment_cost_per_payment : 339.24166051591106\n",
      "carbon_investment_annual_costs : 4070.899926190933\n",
      "total_investment_costs : 203544.99630954664\n",
      "number_of_inspections : 10\n",
      "registry_cost_recurring : 20000.0\n",
      "registry_cost_per_credit : 100.0\n",
      "registry_cost_credits_above_threshold : 0.0\n",
      "total_registry_costs : 20100.0\n",
      "CARG_exponent : 0.02040816326530612\n",
      "total_project_costs_undisc : 223644.99630954664\n",
      "ending_value_discounted : 496395.8910468818\n",
      "total_project_costs_disc : 197890.2980771016\n",
      "rate_of_return : 66.38317960320282\n",
      "CARG : 53.870712007840936\n",
      "gross_present_value : 198050.89473733515\n",
      "net_present_value : 160.5966602335684\n",
      "profit_per_credit : 0.1605966602335684\n",
      "profit_per_hectare_per_year : 3.211933204671368\n",
      "profitable : Yes\n"
     ]
    }
   ],
   "source": [
    "# Call the conditional_executor function with the specified conditions\n",
    "#registry_costs_included = \"yes\"  # Replace with \"yes\" or \"no\" accordingly\n",
    "#investment_costs_included = \"yes\"  # Replace with \"yes\" or \"no\" accordingly\n",
    "results = Conditional_Executor(registry_costs_included, investment_costs_included)\n",
    "\n",
    "# Print all the dictionary values\n",
    "for key, value in results.items():\n",
    "    print(key, \":\", value)\n"
   ]
  }
 ],
 "metadata": {
  "kernelspec": {
   "display_name": "Python 3 (ipykernel)",
   "language": "python",
   "name": "python3"
  },
  "language_info": {
   "codemirror_mode": {
    "name": "ipython",
    "version": 3
   },
   "file_extension": ".py",
   "mimetype": "text/x-python",
   "name": "python",
   "nbconvert_exporter": "python",
   "pygments_lexer": "ipython3",
   "version": "3.10.9"
  }
 },
 "nbformat": 4,
 "nbformat_minor": 5
}
