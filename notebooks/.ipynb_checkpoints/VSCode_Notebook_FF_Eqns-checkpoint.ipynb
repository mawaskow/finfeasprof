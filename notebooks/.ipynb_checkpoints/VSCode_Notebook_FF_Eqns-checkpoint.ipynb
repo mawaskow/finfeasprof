{
 "cells": [
  {
   "attachments": {},
   "cell_type": "markdown",
   "metadata": {},
   "source": [
    "Equation 1"
   ]
  },
  {
   "cell_type": "code",
   "execution_count": 1,
   "metadata": {},
   "outputs": [],
   "source": [
    "def Exponent_Year(period_of_years):\n",
    "    exponent_year = period_of_years - 1\n",
    "    return exponent_year"
   ]
  },
  {
   "attachments": {},
   "cell_type": "markdown",
   "metadata": {},
   "source": [
    "Equation 2"
   ]
  },
  {
   "cell_type": "code",
   "execution_count": 2,
   "metadata": {},
   "outputs": [],
   "source": [
    "def Calendar_Year_End(calendar_year_start, exponent_year):\n",
    "    calendar_year_end = calendar_year_start + exponent_year\n",
    "    return calendar_year_end"
   ]
  },
  {
   "attachments": {},
   "cell_type": "markdown",
   "metadata": {},
   "source": [
    "Equation 3"
   ]
  },
  {
   "cell_type": "code",
   "execution_count": 3,
   "metadata": {},
   "outputs": [],
   "source": [
    "def Real_Interest_Rate(nominal_interest_rate, inflation_rate):\n",
    "    real_interest_rate = nominal_interest_rate - inflation_rate\n",
    "    return real_interest_rate"
   ]
  },
  {
   "attachments": {},
   "cell_type": "markdown",
   "metadata": {},
   "source": [
    "Equation 4"
   ]
  },
  {
   "cell_type": "code",
   "execution_count": 4,
   "metadata": {},
   "outputs": [],
   "source": [
    "def Credits_Generated(period_of_years, hectares_restored, credits_per_hectare_per_year):\n",
    "    credits_generated = period_of_years*hectares_restored*credits_per_hectare_per_year\n",
    "    return credits_generated"
   ]
  },
  {
   "attachments": {},
   "cell_type": "markdown",
   "metadata": {},
   "source": [
    "Equation 5"
   ]
  },
  {
   "cell_type": "code",
   "execution_count": 5,
   "metadata": {},
   "outputs": [],
   "source": [
    "def Generation_Cost_per_Credit(investment_amount, total_project_costs, credits_generated):\n",
    "    generation_cost_per_credit = (investment_amount + total_project_costs)/credits_generated\n",
    "    return generation_cost_per_credit"
   ]
  },
  {
   "attachments": {},
   "cell_type": "markdown",
   "metadata": {},
   "source": [
    "Equation 6"
   ]
  },
  {
   "cell_type": "code",
   "execution_count": 6,
   "metadata": {},
   "outputs": [],
   "source": [
    "def Beginning_Value(credits_generated, generation_cost_per_credit):\n",
    "    beginning_value = credits_generated*generation_cost_per_credit\n",
    "    return beginning_value"
   ]
  },
  {
   "attachments": {},
   "cell_type": "markdown",
   "metadata": {},
   "source": [
    "Equation 7"
   ]
  },
  {
   "cell_type": "code",
   "execution_count": 7,
   "metadata": {},
   "outputs": [],
   "source": [
    "def Ending_Value_Undiscounted(credits_generated, price_per_credit):\n",
    "    ending_value_undiscounted = credits_generated*price_per_credit\n",
    "    return ending_value_undiscounted"
   ]
  },
  {
   "attachments": {},
   "cell_type": "markdown",
   "metadata": {},
   "source": [
    "Equation 8"
   ]
  },
  {
   "cell_type": "code",
   "execution_count": 8,
   "metadata": {},
   "outputs": [],
   "source": [
    "def Carbon_Investment_Cost_per_Payment(interest_rate, payments_per_year, period_of_years, investment_amount):\n",
    "    rate = interest_rate/payments_per_year\n",
    "    n = payments_per_year*period_of_years\n",
    "    x = rate*investment_amount\n",
    "    y = (1-((1+rate)**(-n)))\n",
    "    carbon_investment_cost_per_payment = x/y\n",
    "    return carbon_investment_cost_per_payment\n"
   ]
  },
  {
   "attachments": {},
   "cell_type": "markdown",
   "metadata": {},
   "source": [
    "Equation 9"
   ]
  },
  {
   "cell_type": "code",
   "execution_count": 9,
   "metadata": {},
   "outputs": [],
   "source": [
    "def Carbon_Investment_Annual_Costs(carbon_investment_cost_per_payment, payments_per_year):\n",
    "    carbon_investment_annual_costs = carbon_investment_cost_per_payment*payments_per_year\n",
    "    return carbon_investment_annual_costs"
   ]
  },
  {
   "attachments": {},
   "cell_type": "markdown",
   "metadata": {},
   "source": [
    "Equation 10"
   ]
  },
  {
   "cell_type": "code",
   "execution_count": 10,
   "metadata": {},
   "outputs": [],
   "source": [
    "def Total_Investment_Costs(carbon_investment_annual_costs, period_of_years, investment_costs_included):\n",
    "    if investment_costs_included == \"True\":\n",
    "        total_investment_costs = carbon_investment_annual_costs*period_of_years\n",
    "    else:\n",
    "        total_investment_costs = 0\n",
    "    return total_investment_costs"
   ]
  },
  {
   "attachments": {},
   "cell_type": "markdown",
   "metadata": {},
   "source": [
    "Equation 11"
   ]
  },
  {
   "cell_type": "code",
   "execution_count": 11,
   "metadata": {},
   "outputs": [],
   "source": [
    "def Number_of_Inspections(period_of_years, years_per_inspection_cycle):\n",
    "    number_of_inspections = period_of_years/years_per_inspection_cycle\n",
    "    return number_of_inspections"
   ]
  },
  {
   "attachments": {},
   "cell_type": "markdown",
   "metadata": {},
   "source": [
    "Equation 12"
   ]
  },
  {
   "cell_type": "code",
   "execution_count": null,
   "metadata": {},
   "outputs": [],
   "source": []
  },
  {
   "attachments": {},
   "cell_type": "markdown",
   "metadata": {},
   "source": [
    "Equation 13"
   ]
  },
  {
   "cell_type": "code",
   "execution_count": 12,
   "metadata": {},
   "outputs": [],
   "source": [
    "def Recurring_Registry_Costs(validation_application_fee, validation_statement_fee, inspector_travel_fees, minimum_conversion_cost, number_of_inspections):\n",
    "    recurring_registry_costs = (validation_application_fee + validation_statement_fee + inspector_travel_fees + minimum_conversion_cost)*number_of_inspections\n",
    "    return recurring_registry_costs"
   ]
  },
  {
   "attachments": {},
   "cell_type": "markdown",
   "metadata": {},
   "source": [
    "Equation 14"
   ]
  },
  {
   "cell_type": "code",
   "execution_count": 13,
   "metadata": {},
   "outputs": [],
   "source": [
    "def Registry_Costs_On_All_Credits(credit_listing_cost, credit_levy_cost, credits_generated):\n",
    "    registry_costs_on_all_credits = (credit_listing_cost + credit_levy_cost)*credits_generated\n",
    "    return registry_costs_on_all_credits"
   ]
  },
  {
   "attachments": {},
   "cell_type": "markdown",
   "metadata": {},
   "source": [
    "Equation 15"
   ]
  },
  {
   "cell_type": "code",
   "execution_count": 14,
   "metadata": {},
   "outputs": [],
   "source": [
    "def Registry_Costs_On_Credits_Over_Min_Threshold(conversion_cost_per_credit_over_min_threshold, credits_generated, minimum_threshold):\n",
    "    if credits_generated > minimum_threshold:\n",
    "        registry_costs_on_credits_over_min_threshold = (conversion_cost_per_credit_over_min_threshold)*(credits_generated - minimum_threshold)\n",
    "    else:\n",
    "        registry_costs_on_credits_over_min_threshold = 0\n",
    "    return registry_costs_on_credits_over_min_threshold"
   ]
  },
  {
   "attachments": {},
   "cell_type": "markdown",
   "metadata": {},
   "source": [
    "Equation 16"
   ]
  },
  {
   "cell_type": "code",
   "execution_count": 15,
   "metadata": {},
   "outputs": [],
   "source": [
    "def Total_Registry_Costs(recurring_registry_costs, registry_costs_on_all_credits, registry_costs_on_credits_over_min_threshold, registry_account_open_fee, registry_costs_included):\n",
    "    if registry_costs_included == \"True\":\n",
    "        total_registry_costs = recurring_registry_costs + registry_costs_on_all_credits + registry_costs_on_credits_over_min_threshold + registry_account_open_fee\n",
    "    else:\n",
    "        total_registry_costs = 0\n",
    "    return total_registry_costs"
   ]
  },
  {
   "attachments": {},
   "cell_type": "markdown",
   "metadata": {},
   "source": [
    "Equation 17"
   ]
  },
  {
   "cell_type": "code",
   "execution_count": 16,
   "metadata": {},
   "outputs": [],
   "source": [
    "def Exponent_Factor_for_CARG(exponent_year):\n",
    "    exponent_factor_for_CARG = 1/exponent_year\n",
    "    return exponent_factor_for_CARG"
   ]
  },
  {
   "attachments": {},
   "cell_type": "markdown",
   "metadata": {},
   "source": [
    "Equation 18"
   ]
  },
  {
   "cell_type": "code",
   "execution_count": 17,
   "metadata": {},
   "outputs": [],
   "source": [
    "def Total_Project_Costs_Undiscounted(total_investment_costs, total_registry_costs):\n",
    "    total_project_costs_undiscounted = total_investment_costs + total_registry_costs\n",
    "    return total_project_costs_undiscounted"
   ]
  },
  {
   "attachments": {},
   "cell_type": "markdown",
   "metadata": {},
   "source": [
    "Equation 19"
   ]
  },
  {
   "cell_type": "code",
   "execution_count": 18,
   "metadata": {},
   "outputs": [],
   "source": [
    "def Ending_Value_Discounted(ending_value_undiscounted, real_interest_rate, exponent_year):\n",
    "    x = (1+real_interest_rate)**(exponent_year)\n",
    "    ending_value_discounted = ending_value_undiscounted/x\n",
    "    return ending_value_discounted"
   ]
  },
  {
   "attachments": {},
   "cell_type": "markdown",
   "metadata": {},
   "source": [
    "Equation 20"
   ]
  },
  {
   "cell_type": "code",
   "execution_count": 19,
   "metadata": {},
   "outputs": [],
   "source": [
    "def Total_Project_Costs_Discounted(total_project_costs_undiscounted, real_interest_rate, exponent_year):\n",
    "    x = (1+real_interest_rate)**(exponent_year)\n",
    "    total_project_costs_discounted = total_project_costs_undiscounted/x\n",
    "    return total_project_costs_discounted"
   ]
  },
  {
   "attachments": {},
   "cell_type": "markdown",
   "metadata": {},
   "source": [
    "Equation 21"
   ]
  },
  {
   "cell_type": "code",
   "execution_count": 20,
   "metadata": {},
   "outputs": [],
   "source": [
    "def Rate_of_Return(ending_value_discounted, beginning_value):\n",
    "    rate_of_return = ((ending_value_discounted-beginning_value)/beginning_value)*100\n",
    "    return rate_of_return"
   ]
  },
  {
   "attachments": {},
   "cell_type": "markdown",
   "metadata": {},
   "source": [
    "Equation 22"
   ]
  },
  {
   "cell_type": "code",
   "execution_count": 21,
   "metadata": {},
   "outputs": [],
   "source": [
    "def Compound_Annualised_Rate_of_Growth(ending_value_undiscounted, beginning_value, exponent_factor_of_CARG):\n",
    "    compound_annualised_rate_of_growth = ((ending_value_undiscounted/beginning_value)**(exponent_factor_of_CARG-1))*100\n",
    "    return compound_annualised_rate_of_growth"
   ]
  },
  {
   "attachments": {},
   "cell_type": "markdown",
   "metadata": {},
   "source": [
    "Equation 23"
   ]
  },
  {
   "cell_type": "code",
   "execution_count": 22,
   "metadata": {},
   "outputs": [],
   "source": [
    "def Gross_Present_Value(ending_value_discounted, beginning_value):\n",
    "    gross_present_value = ending_value_discounted - beginning_value\n",
    "    return gross_present_value"
   ]
  },
  {
   "attachments": {},
   "cell_type": "markdown",
   "metadata": {},
   "source": [
    "Equation 24"
   ]
  },
  {
   "cell_type": "code",
   "execution_count": 23,
   "metadata": {},
   "outputs": [],
   "source": [
    "def Net_Present_Value(gross_product_value, total_project_costs_discounted):\n",
    "    net_present_value = gross_product_value - total_project_costs_discounted\n",
    "    return net_present_value"
   ]
  },
  {
   "attachments": {},
   "cell_type": "markdown",
   "metadata": {},
   "source": [
    "Equation 25"
   ]
  },
  {
   "cell_type": "code",
   "execution_count": 24,
   "metadata": {},
   "outputs": [],
   "source": [
    "def Profitable(profit_per_credit, profit_per_hectare_per_year, rate_of_return, compound_annualised_rate_of_growth, gross_present_value, net_present_value):\n",
    "    profitable = 'No'\n",
    "    if profit_per_credit > 0 and profit_per_hectare_per_year > 0 and rate_of_return > 0 and compound_annualised_rate_of_growth > 0 and gross_present_value > 0 and net_present_value > 0:\n",
    "        profitable = 'Yes'\n",
    "    return profitable"
   ]
  },
  {
   "attachments": {},
   "cell_type": "markdown",
   "metadata": {},
   "source": [
    "Equation 26"
   ]
  },
  {
   "cell_type": "code",
   "execution_count": 25,
   "metadata": {},
   "outputs": [],
   "source": [
    "def Profit_per_Credit(net_present_value, credits_generated):\n",
    "    profit_per_credit = net_present_value/credits_generated\n",
    "    return profit_per_credit"
   ]
  },
  {
   "attachments": {},
   "cell_type": "markdown",
   "metadata": {},
   "source": [
    "Equation 27"
   ]
  },
  {
   "cell_type": "code",
   "execution_count": 26,
   "metadata": {},
   "outputs": [],
   "source": [
    "def Profit_per_Hectare_per_Year(net_present_value, hectares_restored, period_of_years):\n",
    "    profit_per_hectare_per_year = (net_present_value/hectares_restored)/period_of_years\n",
    "    return profit_per_hectare_per_year"
   ]
  },
  {
   "cell_type": "markdown",
   "metadata": {},
   "source": [
    "This function converts a python dictionary to a json file"
   ]
  },
  {
   "cell_type": "code",
   "execution_count": 27,
   "metadata": {},
   "outputs": [],
   "source": [
    "import json\n",
    "\n",
    "def Convert_to_Json(dic, filename):\n",
    "    json.dumps(dic, indent = 1)\n",
    "    with open(filename, \"w\") as outfile:\n",
    "        print(json.dumps(dic, indent = 1), file = outfile)"
   ]
  },
  {
   "attachments": {},
   "cell_type": "markdown",
   "metadata": {},
   "source": [
    "This function converts the user input data into a labeled dictionary"
   ]
  },
  {
   "cell_type": "code",
   "execution_count": 28,
   "metadata": {},
   "outputs": [],
   "source": [
    "def UserData(data):\n",
    "    user_data = {'Period of Years': None, 'Credits per Hectare per Year': None, 'Hectares Restored': None, \n",
    "                 'Investment Amount': None, 'Start Year': None, 'Price per Credit': None}\n",
    "    for i in range(0, len(data)):\n",
    "        user_data[list(user_data.keys())[i]] = data[i]\n",
    "\n",
    "    #Save the user data to a separate json file\n",
    "    Convert_to_Json(user_data, \"user_input_data.json\")\n",
    "    \n",
    "    return user_data"
   ]
  },
  {
   "attachments": {},
   "cell_type": "markdown",
   "metadata": {},
   "source": [
    "This function creates a dictionary of the basic assumptions that the toolkit makes when user input is not given"
   ]
  },
  {
   "cell_type": "code",
   "execution_count": 29,
   "metadata": {},
   "outputs": [],
   "source": [
    "def Create_Assumptions():\n",
    "    assumptions = {'Credits per Hectare per Year': 20, 'Nominal Interest Rate': 0.0235, 'Inflation Rate': 0.021,\n",
    "                   'Registry Account Opening Fee': 0, 'Registry Listing Cost per Credit': 0.05, \n",
    "                   'Registry Conversion Cost Fee per Inspection': 100, \n",
    "                   'Registry Conversion Cost per Credit above Minimum Threshold of Credits': 0.05,\n",
    "                   'Registry Levy Cost per Credit': 0.05,\n",
    "                   'Validation and Verification Application Cost per Inspection': 600,\n",
    "                   'Validation and Verification Statement Cost per Inspection': 800,\n",
    "                   'Validation and Verification Inspector Travel Costs per Inspection': 500,\n",
    "                   'Inspection Cycle Length': 5,\n",
    "                   'Minimum Threshold of Credits': 2000,\n",
    "                   'Interest Rate': 0.05, 'Payments per Year': 12}\n",
    "\n",
    "    #Save initial assumptions to json file\n",
    "    Convert_to_Json(assumptions, \"initial_assumptions.json\")\n",
    "    \n",
    "    return assumptions"
   ]
  },
  {
   "attachments": {},
   "cell_type": "markdown",
   "metadata": {},
   "source": [
    "This function takes a list of user input edits to the basic assumptions and changes the assumptions accordingly. The updates to the basic assumptions must take the form of a list where every item is either the new value for the assumption, or None."
   ]
  },
  {
   "cell_type": "code",
   "execution_count": 30,
   "metadata": {},
   "outputs": [],
   "source": [
    "def Edit_Assumptions(assumptions, assumption_updates):\n",
    "    for i in range(0, len(assumptions)):\n",
    "        if assumption_updates[i] != None:\n",
    "            assumptions[list(assumptions.keys())[i]] = assumption_updates[i]\n",
    "\n",
    "    #Save edited assumptions to a separate json file\n",
    "    Convert_to_Json(assumptions, \"final_assumptions.json\")\n",
    "    \n",
    "    return assumptions"
   ]
  },
  {
   "attachments": {},
   "cell_type": "markdown",
   "metadata": {},
   "source": [
    "This function prints the final output summary of the toolkit "
   ]
  },
  {
   "cell_type": "code",
   "execution_count": 31,
   "metadata": {},
   "outputs": [],
   "source": [
    "def Summary(simple_output):\n",
    "    print('Credits generated by restored area: ', simple_output['Credits Generated'] , '\\n')\n",
    "    print('Cost of generating each credit: ', simple_output['Generation Cost per Credit'] , '\\n')\n",
    "    print('Estimated credits per hectare per year: ',  simple_output['Credits per Hectare per Year'], '\\n')\n",
    "    print('Selling each credit for: ',  simple_output['Price per Credit'], '\\n')\n",
    "    print('Is this selling price profitable? ', simple_output['Profitable'], '\\n')\n",
    "    print('Profit per credit: ', simple_output['Profit per Credit'], '\\n')\n",
    "    print('Profit per hectare per year: ', simple_output['Profit per Hectare per Year'] , '\\n')\n",
    "    print('Profit across project duration: ', simple_output['Net Present Value'])"
   ]
  },
  {
   "attachments": {},
   "cell_type": "markdown",
   "metadata": {},
   "source": [
    "This is the main function of the toolkit. It applies all of the calculations to the given data and stores the results of the calculations in two dictionaries; a detailed dictionary for in-depth technical summaries, and a simple dictionary for the final output summary."
   ]
  },
  {
   "cell_type": "code",
   "execution_count": 32,
   "metadata": {},
   "outputs": [],
   "source": [
    "def Output(user_data_file, final_assumptions):\n",
    "    #Open json files\n",
    "    data = open(user_data_file)\n",
    "    assumptions = open(final_assumptions)\n",
    "    #Convert user input data to dictionary and apply any user input updates to the assumptions\n",
    "    user_data = json.load(data)\n",
    "    assumptions = json.load(assumptions)\n",
    "    \n",
    "    #Initialise output dictionaries for detailed and simple outputs\n",
    "    detailed_output = {}\n",
    "    simple_output = {}\n",
    "\n",
    "    #Add user data and assumptions to detailed output dictionary\n",
    "    for i in user_data.keys():\n",
    "        detailed_output[i] = user_data[i]\n",
    "    for i in assumptions.keys():\n",
    "        detailed_output[i] = assumptions[i]\n",
    "    \n",
    "    #Save values from Equations 1-4\n",
    "    detailed_output['Exponent Year'] = Exponent_Year(detailed_output['Period of Years'])\n",
    "    detailed_output['Calendar Year End'] = Calendar_Year_End(detailed_output['Start Year'], detailed_output['Exponent Year'])\n",
    "    detailed_output['Real Interest Rate'] = Real_Interest_Rate(detailed_output['Nominal Interest Rate'], detailed_output['Inflation Rate'])\n",
    "    detailed_output['Credits Generated'] = Credits_Generated(detailed_output['Period of Years'], detailed_output['Hectares Restored'], detailed_output['Credits per Hectare per Year'])\n",
    "\n",
    "    #Save values from Equations 8-10\n",
    "    detailed_output['Carbon Investment Cost per Payment'] = Carbon_Investment_Cost_per_Payment(detailed_output['Interest Rate'], detailed_output['Payments per Year'], detailed_output['Period of Years'], detailed_output['Investment Amount'])\n",
    "    detailed_output['Carbon Investment Annual Costs'] = Carbon_Investment_Annual_Costs(detailed_output['Carbon Investment Cost per Payment'], detailed_output['Payments per Year'])\n",
    "    detailed_output['Total Investment Costs'] = Total_Investment_Costs(detailed_output['Carbon Investment Annual Costs'], detailed_output['Period of Years'], detailed_output['Registry Costs Included'])\n",
    "\n",
    "    #Save values from Equations 11-16\n",
    "    detailed_output['Number of Inspections'] = Number_of_Inspections(detailed_output['Period of Years'], detailed_output['Inspection Cycle Length'])\n",
    "    detailed_output['Recurring Registry Costs'] = Recurring_Registry_Costs(detailed_output['Validation and Verification Application Cost per Inspection'], detailed_output['Validation and Verification Statement Cost per Inspection'], detailed_output['Validation and Verification Inspector Travel Costs per Inspection'], detailed_output['Registry Conversion Cost Fee per Inspection'], detailed_output['Number of Inspections'])\n",
    "    detailed_output['Registry Conversion Costs On All Credits'] = Registry_Costs_On_All_Credits(detailed_output['Registry Listing Cost per Credit'], detailed_output['Registry Levy Cost per Credit'], detailed_output['Credits Generated'])\n",
    "    detailed_output['Registry Costs On Credits Over Minimum Threshold'] = Registry_Costs_On_Credits_Over_Min_Threshold(detailed_output['Registry Conversion Cost per Credit above Minimum Threshold of Credits'], detailed_output['Credits Generated'], detailed_output['Minimum Threshold of Credits'])\n",
    "    detailed_output['Total Registry Costs'] = Total_Registry_Costs(detailed_output['Recurring Registry Costs'], detailed_output['Registry Conversion Costs On All Credits'], detailed_output['Registry Costs On Credits Over Minimum Threshold'], detailed_output['Registry Account Open Fee'], detailed_output['Registry Costs Included'])\n",
    "\n",
    "    #Save values from Equations 17-18\n",
    "    detailed_output['Exponent Factor for CARG'] = Exponent_Factor_for_CARG(detailed_output['Exponent Year'])\n",
    "    detailed_output['Total Project Costs Undiscounted'] = Total_Project_Costs_Undiscounted(detailed_output['Total Investment Costs'], detailed_output['Total Registry Costs'])\n",
    "\n",
    "    #Save values from Equations 5-7\n",
    "    detailed_output['Generation Cost per Credit'] = Generation_Cost_per_Credit(detailed_output['Investment Amount'], detailed_output['Total Project Costs Undiscounted'], detailed_output['Credits Generated'])\n",
    "    detailed_output['Beginning Value'] = Beginning_Value(detailed_output['Credits Generated'], detailed_output['Generation Cost per Credit'])\n",
    "    detailed_output['Ending Value Undiscounted'] = Ending_Value_Undiscounted(detailed_output['Credits Generated'], detailed_output['Price per Credit'])\n",
    "\n",
    "    #Save values from Equations 19-20\n",
    "    detailed_output['Ending Value Discounted'] = Ending_Value_Discounted(detailed_output['Ending Value Undiscounted'], detailed_output['Real Interest Rate'], detailed_output['Exponent Year'])\n",
    "    detailed_output['Total Project Costs Discounted'] = Total_Project_Costs_Discounted(detailed_output['Total Project Costs Undiscounted'], detailed_output['Real Interest Rate'], detailed_output['Exponent Year'])\n",
    "\n",
    "    #Save values from Equations 21-24\n",
    "    detailed_output['Rate of Return'] = Rate_of_Return(detailed_output['Ending Value Discounted'], detailed_output['Beginning Value'])\n",
    "    detailed_output['Compound Annualised Rate of Growth'] = Compound_Annualised_Rate_of_Growth(detailed_output['Ending Value Undiscounted'], detailed_output['Beginning Value'], detailed_output['Exponent Factor for CARG'])\n",
    "    detailed_output['Gross Present Value'] = Gross_Present_Value(detailed_output['Ending Value Discounted'], detailed_output['Beginning Value'])\n",
    "    detailed_output['Net Present Value'] = Net_Present_Value(detailed_output['Gross Present Value'], detailed_output['Total Project Costs Discounted'])\n",
    "\n",
    "    #Save values from Equations 25-27 as simple output\n",
    "    simple_output['Profit per Credit'] = Profit_per_Credit(detailed_output['Net Present Value'], detailed_output['Credits Generated'])\n",
    "    simple_output['Profit per Hectare per Year'] = Profit_per_Hectare_per_Year(detailed_output['Net Present Value'], detailed_output['Hectares Restored'], detailed_output['Period of Years'])\n",
    "    simple_output['Profitable'] = Profitable(simple_output['Profit per Credit'], simple_output['Profit per Hectare per Year'], detailed_output['Rate of Return'], detailed_output['Compound Annualised Rate of Growth'], detailed_output['Gross Present Value'], detailed_output['Net Present Value'])\n",
    "\n",
    "    #Add Net Present Value, Credits Generated, Cost of generation per credit, Price per Credit, and number of credits per hectare per year to simple output\n",
    "    simple_output['Net Present Value'] = detailed_output['Net Present Value']\n",
    "    simple_output['Credits Generated'] = detailed_output['Credits Generated']\n",
    "    simple_output['Generation Cost per Credit'] = detailed_output['Generation Cost per Credit']\n",
    "    simple_output['Credits per Hectare per Year'] = detailed_output['Credits per Hectare per Year']\n",
    "    simple_output['Price per Credit'] = detailed_output['Price per Credit']\n",
    "\n",
    "    #Print Final Summary\n",
    "    Summary(simple_output)\n",
    "\n",
    "    #Save the detailed output in a separate json file\n",
    "    Convert_to_Json(detailed_output, \"detailed_output.json\")\n",
    "\n",
    "    #Save the simple output in a separate json file\n",
    "    Convert_to_Json(simple_output, \"simple_output.json\")"
   ]
  },
  {
   "cell_type": "code",
   "execution_count": 33,
   "metadata": {},
   "outputs": [],
   "source": [
    "user = [50, 20, 1, 74700, 2023, 561]\n",
    "assumption_updates = [None,None,None,None,None,None,None,None,None,None,None,None,None,None,None]"
   ]
  },
  {
   "cell_type": "code",
   "execution_count": 34,
   "metadata": {},
   "outputs": [
    {
     "ename": "FileNotFoundError",
     "evalue": "[Errno 2] No such file or directory: 'user_input_data.json'",
     "output_type": "error",
     "traceback": [
      "\u001b[1;31m---------------------------------------------------------------------------\u001b[0m",
      "\u001b[1;31mFileNotFoundError\u001b[0m                         Traceback (most recent call last)",
      "Cell \u001b[1;32mIn[34], line 1\u001b[0m\n\u001b[1;32m----> 1\u001b[0m Output(\u001b[39m\"\u001b[39;49m\u001b[39muser_input_data.json\u001b[39;49m\u001b[39m\"\u001b[39;49m, \u001b[39m\"\u001b[39;49m\u001b[39mfinal_assumptions.json\u001b[39;49m\u001b[39m\"\u001b[39;49m)\n",
      "Cell \u001b[1;32mIn[32], line 3\u001b[0m, in \u001b[0;36mOutput\u001b[1;34m(user_data_file, final_assumptions)\u001b[0m\n\u001b[0;32m      1\u001b[0m \u001b[39mdef\u001b[39;00m \u001b[39mOutput\u001b[39m(user_data_file, final_assumptions):\n\u001b[0;32m      2\u001b[0m     \u001b[39m#Open json files\u001b[39;00m\n\u001b[1;32m----> 3\u001b[0m     data \u001b[39m=\u001b[39m \u001b[39mopen\u001b[39;49m(user_data_file)\n\u001b[0;32m      4\u001b[0m     assumptions \u001b[39m=\u001b[39m \u001b[39mopen\u001b[39m(final_assumptions)\n\u001b[0;32m      5\u001b[0m     \u001b[39m#Convert user input data to dictionary and apply any user input updates to the assumptions\u001b[39;00m\n",
      "File \u001b[1;32m~\\AppData\\Local\\Packages\\PythonSoftwareFoundation.Python.3.11_qbz5n2kfra8p0\\LocalCache\\local-packages\\Python311\\site-packages\\IPython\\core\\interactiveshell.py:284\u001b[0m, in \u001b[0;36m_modified_open\u001b[1;34m(file, *args, **kwargs)\u001b[0m\n\u001b[0;32m    277\u001b[0m \u001b[39mif\u001b[39;00m file \u001b[39min\u001b[39;00m {\u001b[39m0\u001b[39m, \u001b[39m1\u001b[39m, \u001b[39m2\u001b[39m}:\n\u001b[0;32m    278\u001b[0m     \u001b[39mraise\u001b[39;00m \u001b[39mValueError\u001b[39;00m(\n\u001b[0;32m    279\u001b[0m         \u001b[39mf\u001b[39m\u001b[39m\"\u001b[39m\u001b[39mIPython won\u001b[39m\u001b[39m'\u001b[39m\u001b[39mt let you open fd=\u001b[39m\u001b[39m{\u001b[39;00mfile\u001b[39m}\u001b[39;00m\u001b[39m by default \u001b[39m\u001b[39m\"\u001b[39m\n\u001b[0;32m    280\u001b[0m         \u001b[39m\"\u001b[39m\u001b[39mas it is likely to crash IPython. If you know what you are doing, \u001b[39m\u001b[39m\"\u001b[39m\n\u001b[0;32m    281\u001b[0m         \u001b[39m\"\u001b[39m\u001b[39myou can use builtins\u001b[39m\u001b[39m'\u001b[39m\u001b[39m open.\u001b[39m\u001b[39m\"\u001b[39m\n\u001b[0;32m    282\u001b[0m     )\n\u001b[1;32m--> 284\u001b[0m \u001b[39mreturn\u001b[39;00m io_open(file, \u001b[39m*\u001b[39;49margs, \u001b[39m*\u001b[39;49m\u001b[39m*\u001b[39;49mkwargs)\n",
      "\u001b[1;31mFileNotFoundError\u001b[0m: [Errno 2] No such file or directory: 'user_input_data.json'"
     ]
    }
   ],
   "source": [
    "Output(\"user_input_data.json\", \"final_assumptions.json\")"
   ]
  }
 ],
 "metadata": {
  "kernelspec": {
   "display_name": "Python 3",
   "language": "python",
   "name": "python3"
  },
  "language_info": {
   "codemirror_mode": {
    "name": "ipython",
    "version": 3
   },
   "file_extension": ".py",
   "mimetype": "text/x-python",
   "name": "python",
   "nbconvert_exporter": "python",
   "pygments_lexer": "ipython3",
   "version": "3.11.4"
  },
  "orig_nbformat": 4
 },
 "nbformat": 4,
 "nbformat_minor": 2
}
