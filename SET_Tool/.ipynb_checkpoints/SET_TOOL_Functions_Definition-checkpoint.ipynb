{
 "cells": [
  {
   "cell_type": "markdown",
   "id": "dc34d8d7",
   "metadata": {},
   "source": [
    "# **N2O Fertilizer Cattle Cropresid tab**"
   ]
  },
  {
   "cell_type": "markdown",
   "id": "31785309",
   "metadata": {},
   "source": [
    "**Direct N2O emissions**"
   ]
  },
  {
   "cell_type": "markdown",
   "id": "276e845b",
   "metadata": {},
   "source": [
    "CO2 Emissions Animal Manure"
   ]
  },
  {
   "cell_type": "code",
   "execution_count": 2,
   "id": "49eec024",
   "metadata": {},
   "outputs": [],
   "source": [
    "# Corresponding to equations 6-9 (Baseline)\n",
    "def Manure_CO2Site_Base(manure_applied_base, tot_area):\n",
    "    EF=0.02\n",
    "    N2O_CO2eq=265 #value from the CO2 equivalent table, just this value is used from the table\n",
    "    N2O_N=EF_base*manure_applied_base\n",
    "    N2O_ha= N2O_N*(44/28)\n",
    "    N2O_site=N2O_ha*tot_area\n",
    "    CO2_site_manure_base=N2O_site*N2O_CO2eq\n",
    "    \n",
    "    return CO2_site_manure_base\n",
    "    "
   ]
  },
  {
   "cell_type": "code",
   "execution_count": 3,
   "id": "91c8c6f9",
   "metadata": {},
   "outputs": [],
   "source": [
    "# Corresponding to equations 73-76 (Rewetting)\n",
    "def Animal_CO2Site_Rew(manure_applied_rew, tot_area):\n",
    "    EF=0.02\n",
    "    N2O_CO2eq=265 #value from the CO2 equivalent table, just this value is used from the table\n",
    "    N2O_N=EF*manure_applied_rew\n",
    "    N2O_ha= N2O_N*(44/28)\n",
    "    N2O_site=N2O_ha*tot_area\n",
    "    CO2_site_manure_rew=N2O_site*N2O_CO2eq\n",
    "    \n",
    "    return CO2_site_manure_rew"
   ]
  },
  {
   "cell_type": "markdown",
   "id": "f426305f",
   "metadata": {},
   "source": [
    "CO2 Emissions Organic Fertilizer"
   ]
  },
  {
   "cell_type": "code",
   "execution_count": 4,
   "id": "1ef46bcd",
   "metadata": {},
   "outputs": [],
   "source": [
    "#Corresponding to equations 10-13 (Baseline)\n",
    "def Organic_Fert_CO2Site_Base(organic_applied_base,tot_area):\n",
    "    EF=0.02\n",
    "    N2O_CO2eq=265 \n",
    "    N2O_N=EF*organic_applied_base\n",
    "    N2O_ha= N2O_N*(44/28)\n",
    "    N2O_site=N2O_ha*tot_area\n",
    "    CO2_site_organic_base=N2O_site*N2O_CO2eq\n",
    "    \n",
    "    return CO2_site_organic_base"
   ]
  },
  {
   "cell_type": "code",
   "execution_count": 5,
   "id": "5c08c252",
   "metadata": {},
   "outputs": [],
   "source": [
    "# Corresponding to equations 77-80 (Rewetting)\n",
    "def Organic_Fert_CO2Site_Rew (organic_applied_rew, tot_area):\n",
    "    EF_rew=0.02\n",
    "    N2O_CO2eq=265 \n",
    "    N2O_N_rew=EF_rew*organic_applied_rew\n",
    "    N2O_ha_rew= N2O_N_rew*(44/28)\n",
    "    N2O_site_rew=N2O_ha_rew*tot_area\n",
    "    CO2_site_organic_rew=N2O_site_rew*N2O_CO2eq\n",
    "    \n",
    "    return CO2_site_organic_rew\n",
    "    "
   ]
  },
  {
   "cell_type": "markdown",
   "id": "7b7187cd",
   "metadata": {},
   "source": [
    "CO2 Emissions Grazing Animals"
   ]
  },
  {
   "cell_type": "code",
   "execution_count": 11,
   "id": "10e16a15",
   "metadata": {},
   "outputs": [],
   "source": [
    "# To each animal in the dropdown list is assigned a value EF value and an N-excretion value. The user input will determine the values used in the following calculations. \n",
    "def Animal_Input_Base(animal):\n",
    "    animal_names = [\"dairy_cow\", \"beef_cattle\", \"sheep\", \"goat\", \"buffalo\"]\n",
    "    \n",
    "    if animal == \"dairy_cow\":\n",
    "            EF_animal_b = 0.2\n",
    "            n_excretion_value_b = 130.1\n",
    "    elif animal == \"beef_cattle\":\n",
    "            EF_animal_b = 0.2\n",
    "            n_excretion_value_b = 28.2\n",
    "    elif animal == \"sheep\":\n",
    "            EF_animal_b = 0.1\n",
    "            n_excretion_value_b = 9.9\n",
    "    elif animal == \"goat\":\n",
    "            EF_animal_b = 0.1\n",
    "            n_excretion_value_b = 7.4\n",
    "    elif animal == \"buffalo\":\n",
    "            EF_animal_b = 0.2\n",
    "            n_excretion_value_b = 76.5\n",
    "    else:\n",
    "        EF_animal_b = 0.0  \n",
    "        n_excretion_value_b = 0.0  \n",
    "\n",
    "    return EF_animal_b, n_excretion_value_b\n"
   ]
  },
  {
   "cell_type": "code",
   "execution_count": 12,
   "id": "2befac5c",
   "metadata": {},
   "outputs": [],
   "source": [
    "# Corresponding to equations 14-20 (Baseline)\n",
    "def Grazing_CO2Site_Base(avg_n_animals_base, avg_days_base, n_excretion_value_b, EF_animal_b, tot_area):\n",
    "    N2O_CO2eq=265\n",
    "    N_amount_base=(n_excretion_value_b*avg_n_animals_base*(avg_days_base/365)) / tot_area\n",
    "    N2O_N=EF_animal_b*N_amount_base\n",
    "    N2O_ha= N2O_N*(44/28)\n",
    "    N2O_site=N2O_ha*tot_area\n",
    "    CO2_site_grazing_base=N2O_site*N2O_CO2eq\n",
    "    \n",
    "    return CO2_site_grazing_base, N_amount_base"
   ]
  },
  {
   "cell_type": "code",
   "execution_count": 15,
   "id": "9ba06d1f",
   "metadata": {},
   "outputs": [],
   "source": [
    "#  To each animal in the dropdown list is assigned a value EF value and an N-excretion value. The user input will determine the values used in the following calculations. \n",
    "def Animal_Input_Rew(animal):\n",
    "    animal_names = [\"dairy_cow\", \"beef_cattle\", \"sheep\", \"goat\", \"buffalo\"]\n",
    "    \n",
    "    if animal == \"dairy_cow\":\n",
    "            EF_animal_r = 0.2\n",
    "            n_excretion_value_r = 130.1\n",
    "    elif animal == \"beef_cattle\":\n",
    "            EF_animal_r = 0.2\n",
    "            n_excretion_value_r = 28.2\n",
    "    elif animal == \"sheep\":\n",
    "            EF_animal_r = 0.1\n",
    "            n_excretion_value_r = 9.9\n",
    "    elif animal == \"goat\":\n",
    "            EF_animal_r = 0.1\n",
    "            n_excretion_value_r = 7.4\n",
    "    elif animal == \"buffalo\":\n",
    "            EF_animal_r = 0.2\n",
    "            n_excretion_value_r = 76.5\n",
    "    else:\n",
    "        EF_animal_r=  0.0  \n",
    "        n_excretion_value_b = 0.0  \n",
    "\n",
    "    return EF_animal_r, n_excretion_value_r\n"
   ]
  },
  {
   "cell_type": "code",
   "execution_count": 16,
   "id": "acc6bf2b",
   "metadata": {},
   "outputs": [],
   "source": [
    "# Corresponding to equations 81-87 (Rewetting)\n",
    "def Grazing_CO2Site_Rew(avg_n_animals_rew, avg_days_rew, n_excretion_value_r, EF_animal_r, tot_area):\n",
    "    N2O_CO2eq=265\n",
    "    N_amount_rew=(n_excretion_value_r*avg_n_animals_rew*(avg_days_rew/365)) / tot_area\n",
    "    N2O_N=EF_animal_r*N_amount_rew\n",
    "    N2O_ha= N2O_N(44/28)\n",
    "    N2O_site=N2O_ha*tot_area\n",
    "    CO2_site_grazing_rew=N2O_site*N2O_CO2eq\n",
    "    \n",
    "    return CO2_site_grazing_rew, N_amount_rew"
   ]
  },
  {
   "cell_type": "markdown",
   "id": "2e29a2e1",
   "metadata": {},
   "source": [
    "CO2 Emissions Synthetic Fertilizer"
   ]
  },
  {
   "cell_type": "code",
   "execution_count": 17,
   "id": "8a0c0e2a",
   "metadata": {},
   "outputs": [],
   "source": [
    "# To each fertilizer type in the dropdown list is assigned a EF value. \n",
    "def Synthetic_Fert_Input_Base(fertilizer):\n",
    "    fertilizer_type=[\"nitrate\", \"ammonium\"]\n",
    "    \n",
    "    if fertilizer==\"nitrate\":\n",
    "        EF_fert_b=0.02\n",
    "    elif fertilizer==\"ammonium\":\n",
    "        EF_fert_b==0.01\n",
    "    else:\n",
    "        EF_fert_b==0\n",
    "        \n",
    "    return EF_fert_b\n",
    "    "
   ]
  },
  {
   "cell_type": "code",
   "execution_count": 18,
   "id": "b73cf685",
   "metadata": {},
   "outputs": [],
   "source": [
    "# Corresponding to equations 21-25 (Baseline)\n",
    "def Synth_CO2Site_Base(fert_applied_base, EF_fert_b, tot_area): \n",
    "    N2O_CO2eq=265 \n",
    "    N2O_N=EF_fert_b*fert_applied_base\n",
    "    N2O_ha= N2O_N*(44/28)\n",
    "    N2O_site=N2O_ha*tot_area\n",
    "    CO2_site_synth_fert_base=N2O_site*N2O_CO2eq\n",
    "    \n",
    "    return CO2_site_synth_fert_base"
   ]
  },
  {
   "cell_type": "code",
   "execution_count": 19,
   "id": "dc02cbee",
   "metadata": {},
   "outputs": [],
   "source": [
    "# To each fertilizer type in the dropdown list is assigned a EF value.\n",
    "def Synthetic_Fert_Input_Rew(fertilizer):\n",
    "    fertilizer_type=[\"nitrate\", \"ammonium\"]\n",
    "    \n",
    "    if fertilizer==\"nitrate\":\n",
    "        EF_fert_r=0.02\n",
    "    elif fertilizer==\"ammonium\":\n",
    "        EF_fert_r==0.01\n",
    "    else:\n",
    "        EF_fert_r==0\n",
    "        \n",
    "    return EF_fert_r\n",
    "    "
   ]
  },
  {
   "cell_type": "code",
   "execution_count": 20,
   "id": "5734c125",
   "metadata": {},
   "outputs": [],
   "source": [
    "# Corresponding to equations 88-92 (Rewetting)\n",
    "def Synth_CO2Site_Rew(fert_applied_rew, EF_fert_r, tot_area):\n",
    "    N2O_CO2eq=265 \n",
    "    N2O_N=EF_fert_r*fert_applied_rew\n",
    "    N2O_ha= N2O_N*(44/28)\n",
    "    N2O_site=N2O_ha*tot_area\n",
    "    CO2_site_synth_fert_rew=N2O_site*N2O_CO2eq\n",
    "    \n",
    "    return CO2_site_synth_fert_rew"
   ]
  },
  {
   "cell_type": "markdown",
   "id": "3abd6d71",
   "metadata": {},
   "source": [
    "CO2 Emissions Crop Residue"
   ]
  },
  {
   "cell_type": "code",
   "execution_count": 21,
   "id": "a3107c8d",
   "metadata": {},
   "outputs": [],
   "source": [
    "# Corresponding to equation 26 (Baseline)\n",
    "def Residue_Left_Input_Base(answer_b, crop_name_b):\n",
    "    crop_names = [\"Cattail (Typha sp.)\", \"Reed (Pharagmites australis)\", \"Peat moss (Sphagnum sp.)\", \"Grasses like reed canary grass\", \"Alder (Alnus sp.)\", \"Other\" ]  # List of all crop names\n",
    "    \n",
    "    if answer_b == \"yes\" and crop_name_b in crop_names:\n",
    "        \n",
    "        if crop_name_b == \"Cattail (Typha sp.)\":\n",
    "            cropresidue_fraction_tot_yield_b = 0.116\n",
    "        elif crop_name_b == \"Reed (Pharagmites australis)\":\n",
    "            cropresidue_fraction_tot_yield_b = 0.0465\n",
    "        else:\n",
    "            cropresidue_fraction_tot_yield_b = 0.0\n",
    "            \n",
    "    else:\n",
    "        cropresidue_fraction_tot_yield_b = 0.0\n",
    "    \n",
    "    return cropresidue_fraction_tot_yield_b"
   ]
  },
  {
   "cell_type": "code",
   "execution_count": 22,
   "id": "160ec889",
   "metadata": {},
   "outputs": [],
   "source": [
    "# Corresponding to equation 93 (Rewetting)\n",
    "def Residue_Left_Input_Rew(answer_r, crop_name_r):\n",
    "    crop_names = [\"Cattail (Typha sp.)\", \"Reed (Pharagmites australis)\", \"Peat moss (Sphagnum sp.)\", \"Grasses like reed canary grass\", \"Alder (Alnus sp.)\", \"Other\" ]  # List of all crop names\n",
    "    \n",
    "    if answer_r == \"yes\" and crop_name_r in crop_names:\n",
    "        \n",
    "        if crop_name_r == \"Cattail (Typha sp.)\":\n",
    "            cropresidue_fraction_tot_yield_r = 0.116\n",
    "        elif crop_name_r == \"Reed (Pharagmites australis)\":\n",
    "            cropresidue_fraction_tot_yield_r = 0.0465\n",
    "        else:\n",
    "            cropresidue_fraction_tot_yield_r = 0.0\n",
    "            \n",
    "    else:\n",
    "        cropresidue_fraction_tot_yield_r = 0.0\n",
    "    \n",
    "    return cropresidue_fraction_tot_yield_r"
   ]
  },
  {
   "cell_type": "code",
   "execution_count": 23,
   "id": "b2b40b5d",
   "metadata": {},
   "outputs": [],
   "source": [
    "# Corresponding to equation2 27-31 (Baseline)\n",
    "def Crop_Residue_Base(cropresidue_fraction_tot_yield_b, crop_yield_base, tot_area):\n",
    "    nitrogen_content=0.015\n",
    "    EF=0.02\n",
    "    N2O_CO2eq=265\n",
    "    amount_applied=cropresidue_fraction_tot_yield_b*crop_yield_base*1000*nitrogen_content\n",
    "    N2O_N=EF*amount_applied\n",
    "    N2O_ha= N2O_N*(44/28)\n",
    "    N2O_site=N2O_ha*tot_area\n",
    "    CO2_site_cropres_base=N2O_site*N2O_CO2eq\n",
    "    \n",
    "    return CO2_site_cropres_base"
   ]
  },
  {
   "cell_type": "code",
   "execution_count": 24,
   "id": "302010b7",
   "metadata": {},
   "outputs": [],
   "source": [
    "# Corresponding to equations 94-98 (Rewetting)\n",
    "def Crop_Residue_Rew(cropresidue_fraction_tot_yield_r, crop_yield_rew, tot_area):\n",
    "    nitrogen_content=0.015\n",
    "    EF=0.02\n",
    "    N2O_CO2eq=265\n",
    "    amount_applied=cropresidue_fraction_tot_yield_r*crop_yield_rew*1000*nitrogen_content\n",
    "    N2O_N=EF*amount_applied\n",
    "    N2O_ha= N2O_N*(44/28)\n",
    "    N2O_site=N2O_ha*tot_area\n",
    "    CO2_site_cropres_base=N2O_site*N2O_CO2eq\n",
    "    \n",
    "    return CO2_site_cropres_rew"
   ]
  },
  {
   "cell_type": "markdown",
   "id": "aaa257a0",
   "metadata": {},
   "source": [
    "CO2 Emissions Basis Value Managed Soil"
   ]
  },
  {
   "cell_type": "code",
   "execution_count": 25,
   "id": "b6f360c2",
   "metadata": {},
   "outputs": [],
   "source": [
    "#This function doesn't vary between baseline and rewetting scenario. Corresponding to equations 32-22 and 99-100\n",
    "def Basis_value_managed_soils(tot_area):\n",
    "    N2O_CO2eq=265\n",
    "    N2O_ha=8 #Not sure why this value is 8\n",
    "    N2O_site=N2O_ha*tot_area\n",
    "    CO2_site_managed_soil=N2O_site*N2O_CO2eq\n",
    "    \n",
    "    return  CO2_site_managed_soil "
   ]
  },
  {
   "cell_type": "markdown",
   "id": "326d88e5",
   "metadata": {},
   "source": [
    "Total CO2 Emissions per Site "
   ]
  },
  {
   "cell_type": "code",
   "execution_count": 26,
   "id": "3f455302",
   "metadata": {},
   "outputs": [],
   "source": [
    "# Corresponding to equation 5 (Baseline)\n",
    "def Total_Direct_N2Oemissions_Base(CO2_site_managed_soil, CO2_site_cropres_base, CO2_site_synth_fert_base, CO2_site_grazing_base, CO2_site_organic_base, CO2_site_manure_base ):\n",
    "    total_direct_N2Oemiss_base= (CO2_site_managed_soil + CO2_site_cropres_base + CO2_site_synth_fert_base + CO2_site_grazing_base + CO2_site_organic_base + CO2_site_manure_base)/1000\n",
    "    \n",
    "    return total_direct_N2Oemiss_base"
   ]
  },
  {
   "cell_type": "code",
   "execution_count": 27,
   "id": "0e4c5e44",
   "metadata": {},
   "outputs": [],
   "source": [
    "# Corresponding to equation 72 (Rewetting)\n",
    "def Total_Direct_N2Oemissions_Rew(CO2_site_managed_soil, CO2_site_cropres_rew, CO2_site_synth_fert_rew, CO2_site_grazing_rew, CO2_site_organic_rew, CO2_site_manure_rew ):\n",
    "    total_direct_N2Oemiss_base= (CO2_site_managed_soil + CO2_site_cropres_rew + CO2_site_synth_fert_rew + CO2_site_grazing_rew + CO2_site_organic_rew + CO2_site_manure_rew)/1000\n",
    "    \n",
    "    return total_direct_N2Oemiss_rew"
   ]
  },
  {
   "cell_type": "markdown",
   "id": "6bd09c13",
   "metadata": {},
   "source": [
    "**Indirect N2O emissions**"
   ]
  },
  {
   "cell_type": "markdown",
   "id": "97016503",
   "metadata": {},
   "source": [
    "CO2 Emissions Animal Ammonia"
   ]
  },
  {
   "cell_type": "code",
   "execution_count": 28,
   "id": "443ebcbf",
   "metadata": {},
   "outputs": [],
   "source": [
    "# Corresponding to equations 35-40 (Baseline)\n",
    "def Animal_Ammonia_Base(manure_applied_base, N_amount_base, tot_area):\n",
    "    EF_ammonia=0.104\n",
    "    EF_N2O_N=0.01\n",
    "    N2O_CO2eq=265\n",
    "    ammonia_applied= N_amount_base*manure_applied_base\n",
    "    volatilization_N= ammonia_applied*EF_ammonia\n",
    "    N2O_N=EF_N2O_N*volatilization_N\n",
    "    N2O_ha= N2O_N*(44/28)\n",
    "    N2O_site=N2O_ha*tot_area\n",
    "    CO2_site_animal_amm_base=N2O_site*N2O_CO2eq\n",
    "    \n",
    "    return CO2_site_animal_amm_base\n",
    "    "
   ]
  },
  {
   "cell_type": "code",
   "execution_count": 29,
   "id": "f5df961b",
   "metadata": {},
   "outputs": [],
   "source": [
    "# Equations 102-107 (Rewetting)\n",
    "def Animal_Ammonia_Rew(manure_applied_rew, N_amount_rew, tot_area):\n",
    "    EF_ammonia=0.104\n",
    "    EF_N2O_N=0.01\n",
    "    N2O_CO2eq=265\n",
    "    ammonia_applied= N_amount_rew*manure_applied_rew\n",
    "    volatilization_N= ammonia_applied*EF_ammonia\n",
    "    N2O_N=EF_N2O_N*volatilization_N\n",
    "    N2O_ha= N2O_N*(44/28)\n",
    "    N2O_site=N2O_ha*tot_area\n",
    "    CO2_site_animal_amm_rew=N2O_site*N2O_CO2eq\n",
    "    \n",
    "    return CO2_site_animal_amm_rew"
   ]
  },
  {
   "cell_type": "markdown",
   "id": "5854cc4b",
   "metadata": {},
   "source": [
    "CO2 Emissions Fertilizer Ammonia"
   ]
  },
  {
   "cell_type": "code",
   "execution_count": 30,
   "id": "51721e2e",
   "metadata": {},
   "outputs": [],
   "source": [
    "# This function assigns the EF ammonia value according to the type of fertilizer chosen by the user (Baseline)\n",
    "def Ammonia_Fert_Input_Base(fertilizer):\n",
    "    fertilizer_type=[\"nitrate\", \"ammonium\"]\n",
    "    \n",
    "    if fertilizer==\"nitrate\":\n",
    "        EF_ammonia_b=0.015\n",
    "    elif fertilizer==\"ammonium\":\n",
    "        EF_ammonia_b==0.1\n",
    "    else:\n",
    "        EF_ammonia_b==0\n",
    "        \n",
    "    return EF_ammonia_b"
   ]
  },
  {
   "cell_type": "code",
   "execution_count": 31,
   "id": "f20df84b",
   "metadata": {},
   "outputs": [],
   "source": [
    "# Equations 41-46 (Baseline)\n",
    "def Fert_Ammonia_Base(fert_applied_base, EF_ammonia_b, tot_area):\n",
    "    EF_N2O_N=0.01\n",
    "    N2O_CO2eq=265\n",
    "    volatilization_N=fert_applied_base* EF_ammonia_b\n",
    "    N2O_N=EF_N2O_N*volatilization_N\n",
    "    N2O_ha= N2O_N*(44/28)\n",
    "    N2O_site=N2O_ha*tot_area\n",
    "    CO2_site_animal_amm_base=N2O_site*N2O_CO2eq\n",
    "    \n",
    "    return CO2_site_fert_amm_base\n",
    "    \n"
   ]
  },
  {
   "cell_type": "code",
   "execution_count": 32,
   "id": "da47c028",
   "metadata": {},
   "outputs": [],
   "source": [
    "#This function assigns the EF ammonia value according to the type of fertilizer chosen by the user (Rewetting)\n",
    "def Ammonia_Fert_Input_Rew(fertilizer):\n",
    "    fertilizer_type=[\"nitrate\", \"ammonium\"]\n",
    "    \n",
    "    if fertilizer==\"nitrate\":\n",
    "        EF_ammonia_r=0.015\n",
    "    elif fertilizer==\"ammonium\":\n",
    "        EF_ammonia_r==0.1\n",
    "    else:\n",
    "        EF_ammonia_r==0\n",
    "        \n",
    "    return EF_ammonia_r"
   ]
  },
  {
   "cell_type": "code",
   "execution_count": 33,
   "id": "46b01221",
   "metadata": {},
   "outputs": [],
   "source": [
    "# Equations 108-113 (Rewetting) \n",
    "def Fert_Ammonia_Rew(fert_applied_rew, EF_ammonia_r, tot_area):\n",
    "    EF_N2O_N=0.01\n",
    "    N2O_CO2eq=265\n",
    "    volatilization_N=fert_applied_rew* EF_ammonia_r\n",
    "    N2O_N=EF_N2O_N*volatilization_N\n",
    "    N2O_ha= N2O_N*(44/28)\n",
    "    N2O_site=N2O_ha*tot_area\n",
    "    CO2_site_animal_amm_rew=N2O_site*N2O_CO2eq\n",
    "    \n",
    "    return CO2_site_fert_amm_rew"
   ]
  },
  {
   "cell_type": "markdown",
   "id": "fc3f3c92",
   "metadata": {},
   "source": [
    "CO2 Emissions N-Oxide"
   ]
  },
  {
   "cell_type": "code",
   "execution_count": 34,
   "id": "12b66fd3",
   "metadata": {},
   "outputs": [],
   "source": [
    "# Equations 47-52 (Baseline)\n",
    "def N_Oxide_Base(manure_applied_base, fert_applied_base, tot_area):\n",
    "    EF_NOxide_ammonia=0.15\n",
    "    N2O_CO2eq=265\n",
    "    N=manure_applied_base + fert_applied_base\n",
    "    volatilization_N= EF_NOxide_ammonia*N\n",
    "    N2O_N=EF_N2O_N*volatilization_N\n",
    "    N2O_ha= N2O_N*(44/28)\n",
    "    N2O_site=N2O_ha*tot_area\n",
    "    CO2_site_animal_amm_base=N2O_site*N2O_CO2eq\n",
    "    \n",
    "    return CO2_site_NOxide_base\n",
    "    "
   ]
  },
  {
   "cell_type": "code",
   "execution_count": 35,
   "id": "7b240186",
   "metadata": {},
   "outputs": [],
   "source": [
    "# Equations 114-119 (Rewetting)\n",
    "def N_Oxide_Rew(manure_applied_rew, fert_applied_rew, tot_area):\n",
    "    EF_NOxide_ammonia=0.15\n",
    "    N2O_CO2eq=265\n",
    "    N=manure_applied_rew + fert_applied_rew\n",
    "    volatilization_N= EF_NOxide_ammonia*N\n",
    "    N2O_N=EF_N2O_N*volatilization_N\n",
    "    N2O_ha= N2O_N*(44/28)\n",
    "    N2O_site=N2O_ha*tot_area\n",
    "    CO2_site_animal_amm_rew=N2O_site*N2O_CO2eq\n",
    "    \n",
    "    return CO2_site_NOxide_rew\n",
    "    "
   ]
  },
  {
   "cell_type": "markdown",
   "id": "e0d3404f",
   "metadata": {},
   "source": [
    "CO2 Emissions Nitrate"
   ]
  },
  {
   "cell_type": "code",
   "execution_count": 39,
   "id": "088fe1d8",
   "metadata": {},
   "outputs": [],
   "source": [
    "# Equations 53-59 (Baseline)\n",
    "def Nitrate_Base(manure_applied_base, organic_applied_base, cropresidue_fraction_tot_yield_b, fert_applied_base, tot_area):\n",
    "    EF_nitrate_leaching=0.3\n",
    "    EF_N2O_N_leached=0.03\n",
    "    N2O_CO2eq=265\n",
    "    applied_animal=manure_applied_base + organic_applied_base\n",
    "    applied_remaining=organic_applied_base + cropresidue_fraction_tot_yield_b\n",
    "    nitrate_leached= (applied_animal +  fert_applied_base +  applied_remaining) * EF_nitrate_leaching\n",
    "    N2O_N_leached= nitrate_leached * EF_N2O_N_leached\n",
    "    N2O_ha= N2O_N*(44/28)\n",
    "    N2O_site=N2O_ha*tot_area\n",
    "    CO2_site_nitrate_base=N2O_site*N2O_CO2eq\n",
    "    \n",
    "    return CO2_site_nitrate_base"
   ]
  },
  {
   "cell_type": "code",
   "execution_count": 40,
   "id": "b9220e34",
   "metadata": {},
   "outputs": [],
   "source": [
    "# Equations 120-126 (Rewetting)\n",
    "def Nitrate_Rew(manure_applied_rew, organic_applied_rew, cropresidue_fraction_tot_yield_r, fert_applied_rew, tot_area):\n",
    "    EF_nitrate_leaching=0.3\n",
    "    EF_N2O_N_leached=0.03\n",
    "    N2O_CO2eq=265\n",
    "    applied_animal=manure_applied_base + organic_applied_base\n",
    "    applied_remaining=organic_applied_base + cropresidue_fraction_tot_yield_r\n",
    "    nitrate_leached= (applied_animal +  fert_applied_base +  applied_remaining) * EF_nitrate_leaching\n",
    "    N2O_N_leached= nitrate_leached * EF_N2O_N_leached\n",
    "    N2O_ha= N2O_N*(44/28)\n",
    "    N2O_site=N2O_ha*tot_area\n",
    "    CO2_site_nitrate_rew=N2O_site*N2O_CO2eq\n",
    "    \n",
    "    return CO2_site_nitrate_rew"
   ]
  },
  {
   "cell_type": "markdown",
   "id": "b9ad5fe3",
   "metadata": {},
   "source": [
    "Total Indirect CO2 Emissions per Site"
   ]
  },
  {
   "cell_type": "code",
   "execution_count": 41,
   "id": "8d243c17",
   "metadata": {},
   "outputs": [],
   "source": [
    "# Corresponidng to equation 34 (Baseline)\n",
    "def Total_Indirect_N2Oemissions_Base( CO2_site_nitrate_base, CO2_site_NOxide_base, CO2_site_fert_amm_base, CO2_site_animal_amm_base):\n",
    "    tot_indirect_N2Oemiss_base=CO2_site_nitrate_base + CO2_site_NOxide_base + CO2_site_fert_amm_base + CO2_site_animal_amm_base\n",
    "    return tot_indirect_N2Oemiss_base"
   ]
  },
  {
   "cell_type": "code",
   "execution_count": 42,
   "id": "55f5d0e5",
   "metadata": {},
   "outputs": [],
   "source": [
    "# Corresponding to equation 101 (Rewetting)\n",
    "def Total_Indirect_N2Oemissions_Rew( CO2_site_nitrate_rew, CO2_site_NOxide_rew, CO2_site_fert_amm_rew, CO2_site_animal_amm_rew):\n",
    "    tot_indirect_N2Oemiss_rew=CO2_site_nitrate_rew + CO2_site_NOxide_rew + CO2_site_fert_amm_rew + CO2_site_animal_amm_rew\n",
    "    return tot_indirect_N2Oemiss_rew"
   ]
  },
  {
   "cell_type": "markdown",
   "id": "b4d3da22",
   "metadata": {},
   "source": [
    "# Fossil Energy Tab"
   ]
  },
  {
   "cell_type": "code",
   "execution_count": 43,
   "id": "f2076aaa",
   "metadata": {},
   "outputs": [],
   "source": [
    "# Corresponding to equations 62-67 (Baseline)\n",
    "def Tot_Fossil_Energy_Base(KWh_site_base, DieselL_site_base):\n",
    "    diesel_kgCO2_liter=3.35\n",
    "    electricity_kgCO2_liter= 0.581\n",
    "    diesel_CO2_site=DieselL_site_base*diesel_kgCO2_liter\n",
    "    electricity_CO2_site=KWh_site_base*electricity_kgCO2_liter\n",
    "    total_energy_kgCO2=diesel_CO2_site + electricity_CO2_site\n",
    "    total_energy_tCO2_base=total_energy_kgCO2/1000\n",
    "    \n",
    "    return total_energy_tCO2_base"
   ]
  },
  {
   "cell_type": "code",
   "execution_count": 44,
   "id": "99f64e06",
   "metadata": {},
   "outputs": [],
   "source": [
    "# Corresponding to equations 129-134 (Rewetting)\n",
    "def Tot_Fossil_Energy_Rew(KWh_site_rew, DieselL_site_rew):\n",
    "    diesel_kgCO2_liter=3.35\n",
    "    electricity_kgCO2_liter= 0.581\n",
    "    diesel_CO2_site=DieselL_site_rew*diesel_kgCO2_liter\n",
    "    electricity_CO2_site=KWh_site_rew*electricity_kgCO2_liter\n",
    "    total_energy_kgCO2=diesel_CO2_site + electricity_CO2_site\n",
    "    total_energy_tCO2_rew=total_energy_kgCO2/1000\n",
    "    \n",
    "    return total_energy_tCO2_rew"
   ]
  },
  {
   "cell_type": "markdown",
   "id": "6f7fa079",
   "metadata": {},
   "source": [
    "# Crop Use Tab"
   ]
  },
  {
   "cell_type": "markdown",
   "id": "0b780cf7",
   "metadata": {},
   "source": [
    "The following function refers to the csv file \"crop_use_table1\" and uses as input the chosen crop use (Input G118). According to the crop use chosen, the result value will assume a value of 1 if at least one \"yes\" appears in relation to the input, 0 otherwise. "
   ]
  },
  {
   "cell_type": "code",
   "execution_count": 45,
   "id": "4eaeab3c",
   "metadata": {},
   "outputs": [],
   "source": [
    "import csv\n",
    "\n",
    "def assign_value(crop_use_table1, chosen_CropUse):\n",
    "    with open(csv_file, 'r') as file:\n",
    "        data = csv.DictReader(file)\n",
    "        for row in data:\n",
    "            if row['Product Use'] == chosen_CropUse:\n",
    "                if 'yes' in row.values():\n",
    "                    result = 1  # At least one \"yes\" value found\n",
    "                else:\n",
    "                    result = 0  # No \"yes\" value found\n",
    "                return result\n",
    "   "
   ]
  },
  {
   "cell_type": "code",
   "execution_count": 47,
   "id": "9b70f5a4",
   "metadata": {},
   "outputs": [],
   "source": [
    "# This function uses the previous result, the crop yield input and the total area input to calculate emissions per site. The input \"crop\" (rewetting) is not used as the carbon content for each crop is the same. \n",
    "# The function exists only for the rewetting scenario. \n",
    "def Product_CO2_Emissions(result, crop_yield, tot_area):\n",
    "    conversion_factor=44/12\n",
    "    carbon_content=0.475\n",
    "    crop_use_impact= crop_yield * result\n",
    "    carbon_weight=crop_use_impact * carbon_content\n",
    "    ton_CO2_ha= (carbon_weight * conversion_factor) * (-1)\n",
    "    ton_CO2_site= ton_CO2_ha * tot_area\n",
    "    \n",
    "    return  ton_CO2_site\n",
    "    "
   ]
  },
  {
   "cell_type": "code",
   "execution_count": null,
   "id": "7da153ce",
   "metadata": {},
   "outputs": [],
   "source": []
  },
  {
   "cell_type": "code",
   "execution_count": null,
   "id": "7217c76f",
   "metadata": {},
   "outputs": [],
   "source": []
  }
 ],
 "metadata": {
  "kernelspec": {
   "display_name": "Python 3 (ipykernel)",
   "language": "python",
   "name": "python3"
  },
  "language_info": {
   "codemirror_mode": {
    "name": "ipython",
    "version": 3
   },
   "file_extension": ".py",
   "mimetype": "text/x-python",
   "name": "python",
   "nbconvert_exporter": "python",
   "pygments_lexer": "ipython3",
   "version": "3.10.9"
  }
 },
 "nbformat": 4,
 "nbformat_minor": 5
}
